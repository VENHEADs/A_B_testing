{
 "cells": [
  {
   "cell_type": "code",
   "execution_count": 1,
   "metadata": {},
   "outputs": [],
   "source": [
    "import scipy.stats as sps\n",
    "from tqdm.notebook import tqdm as tqdm_notebook \n",
    "from collections import defaultdict\n",
    "from statsmodels.stats.proportion import proportion_confint\n",
    "import numpy as np\n",
    "import itertools\n",
    "from scipy.stats import ttest_ind,kstest"
   ]
  },
  {
   "cell_type": "markdown",
   "metadata": {},
   "source": [
    "### Пример переобучения"
   ]
  },
  {
   "cell_type": "code",
   "execution_count": 2,
   "metadata": {},
   "outputs": [
    {
     "data": {
      "application/vnd.jupyter.widget-view+json": {
       "model_id": "7caf29ee965841aea5177c03c7eab18d",
       "version_major": 2,
       "version_minor": 0
      },
      "text/plain": [
       "  0%|          | 0/10000 [00:00<?, ?it/s]"
      ]
     },
     "metadata": {},
     "output_type": "display_data"
    },
    {
     "name": "stdout",
     "output_type": "stream",
     "text": [
      "Не попал в 85.07000000000001% случаев; доверительный интервал: [84.36%, 85.76%]\n"
     ]
    }
   ],
   "source": [
    "bad_cnt = 0\n",
    "\n",
    "N = 10000\n",
    "for i in tqdm_notebook(range(N)):\n",
    "    control_before = sps.expon(scale=1000).rvs(1000)\n",
    "    control = control_before + sps.norm(loc=0, scale=100).rvs(1000)\n",
    "\n",
    "    control_cup = control - (control_before - np.mean(control_before))\n",
    "    std = np.std(control_cup) / np.sqrt(len(control_cup))\n",
    "    mean = np.mean(control_cup)\n",
    "\n",
    "    left_bound, right_bound = sps.norm(loc=mean, scale=std).ppf([0.025, 0.975])\n",
    "    \n",
    "    if left_bound > 1000 or right_bound < 1000:\n",
    "        bad_cnt += 1\n",
    "    \n",
    "left_real_level, right_real_level = proportion_confint(count = bad_cnt, nobs = N, alpha=0.05, method='wilson')\n",
    "print(f\"Не попал в {round(bad_cnt / N, 4) * 100}% случаев;\"\n",
    "      f\" доверительный интервал: [{round(left_real_level, 4) * 100}%, {round(right_real_level, 4) * 100}%]\")"
   ]
  },
  {
   "cell_type": "markdown",
   "metadata": {},
   "source": [
    "### Если распределение известно"
   ]
  },
  {
   "cell_type": "code",
   "execution_count": 3,
   "metadata": {},
   "outputs": [
    {
     "data": {
      "application/vnd.jupyter.widget-view+json": {
       "model_id": "db52e443350d49b5a3dfaaada301d129",
       "version_major": 2,
       "version_minor": 0
      },
      "text/plain": [
       "  0%|          | 0/10000 [00:00<?, ?it/s]"
      ]
     },
     "metadata": {},
     "output_type": "display_data"
    },
    {
     "name": "stdout",
     "output_type": "stream",
     "text": [
      "Не попал в 5.16% случаев; доверительный интервал: [4.74%, 5.609999999999999%]\n"
     ]
    }
   ],
   "source": [
    "bad_cnt = 0\n",
    "\n",
    "N = 10000\n",
    "for i in tqdm_notebook(range(N)):\n",
    "    control_before = sps.expon(scale=1000).rvs(1000)\n",
    "    control = control_before + sps.norm(loc=0, scale=100).rvs(1000)\n",
    "\n",
    "    control_cup = control - (control_before - 1000)\n",
    "    std = np.std(control_cup) / np.sqrt(len(control_cup))\n",
    "    mean = np.mean(control_cup)\n",
    "\n",
    "    left_bound, right_bound = sps.norm(loc=mean, scale=std).ppf([0.025, 0.975])\n",
    "    \n",
    "    if left_bound > 1000 or right_bound < 1000:\n",
    "        bad_cnt += 1\n",
    "    \n",
    "left_real_level, right_real_level = proportion_confint(count = bad_cnt, nobs = N, alpha=0.05, method='wilson')\n",
    "print(f\"Не попал в {round(bad_cnt / N, 4) * 100}% случаев;\"\n",
    "      f\" доверительный интервал: [{round(left_real_level, 4) * 100}%, {round(right_real_level, 4) * 100}%]\")"
   ]
  },
  {
   "cell_type": "markdown",
   "metadata": {},
   "source": [
    "### Допустим я не знаю параметры распределения, но у меня много данных\n"
   ]
  },
  {
   "cell_type": "code",
   "execution_count": 4,
   "metadata": {},
   "outputs": [
    {
     "data": {
      "application/vnd.jupyter.widget-view+json": {
       "model_id": "03683b7aecc34d81ba083f4520d7566a",
       "version_major": 2,
       "version_minor": 0
      },
      "text/plain": [
       "  0%|          | 0/10000 [00:00<?, ?it/s]"
      ]
     },
     "metadata": {},
     "output_type": "display_data"
    },
    {
     "name": "stdout",
     "output_type": "stream",
     "text": [
      "Не попал в 5.01% случаев; доверительный интервал: [4.6%, 5.46%]\n"
     ]
    }
   ],
   "source": [
    "bad_cnt = 0\n",
    "\n",
    "N = 10000\n",
    "control_before_general = sps.expon(scale=1000).rvs(1000 * 1000)\n",
    "for i in tqdm_notebook(range(N)):\n",
    "    control_before = sps.expon(scale=1000).rvs(1000)\n",
    "    control = control_before + sps.norm(loc=0, scale=100).rvs(1000)\n",
    "\n",
    "    control_cup = control - (control_before - np.mean(control_before_general))\n",
    "    std = np.std(control_cup) / np.sqrt(len(control_cup))\n",
    "    mean = np.mean(control_cup)\n",
    "\n",
    "    left_bound, right_bound = sps.norm(loc=mean, scale=std).ppf([0.025, 0.975])\n",
    "    \n",
    "    if left_bound > 1000 or right_bound < 1000:\n",
    "        bad_cnt += 1\n",
    "    \n",
    "left_real_level, right_real_level = proportion_confint(count = bad_cnt, nobs = N, alpha=0.05, method='wilson')\n",
    "print(f\"Не попал в {round(bad_cnt / N, 4) * 100}% случаев;\"\n",
    "      f\" доверительный интервал: [{round(left_real_level, 4) * 100}%, {round(right_real_level, 4) * 100}%]\")"
   ]
  },
  {
   "cell_type": "markdown",
   "metadata": {},
   "source": [
    "### Вот как будет это выглядеть в реальной жизни при самом плохом случае\n"
   ]
  },
  {
   "cell_type": "code",
   "execution_count": 5,
   "metadata": {},
   "outputs": [
    {
     "data": {
      "application/vnd.jupyter.widget-view+json": {
       "model_id": "2805ada2a5af464faf7d46ca812968dc",
       "version_major": 2,
       "version_minor": 0
      },
      "text/plain": [
       "  0%|          | 0/10000 [00:00<?, ?it/s]"
      ]
     },
     "metadata": {},
     "output_type": "display_data"
    },
    {
     "name": "stdout",
     "output_type": "stream",
     "text": [
      "Не попал в 4.83% случаев; доверительный интервал: [4.43%, 5.27%]\n"
     ]
    }
   ],
   "source": [
    "bad_cnt = 0\n",
    "\n",
    "N = 10000\n",
    "for i in tqdm_notebook(range(N)):\n",
    "    control_before_full = sps.expon(scale=1000).rvs(1000 * 2)\n",
    "    len_full = len(control_before_full)\n",
    "    indexes_to_take_a = np.random.choice(range(len_full),len_full//2,False)\n",
    "    indexes_to_take_b = [x for x in range(2000) if x not in indexes_to_take_a]\n",
    "    \n",
    "    control_before_a = control_before_full[indexes_to_take_a]\n",
    "    control_before_b = control_before_full[indexes_to_take_b]\n",
    "    \n",
    "    control_after_a = control_before_a + sps.norm(loc=0, scale=100).rvs(len_full//2)\n",
    "    control_after_b = control_before_b + sps.norm(loc=0, scale=100).rvs(len_full//2)\n",
    "\n",
    "    control_cup_a = control_after_a - (control_before_a - np.mean(control_before_full))\n",
    "    control_cup_b = control_after_b - (control_before_b - np.mean(control_before_full))\n",
    "\n",
    "    \n",
    "    if kstest(control_cup_a,control_cup_b).pvalue < 0.05:\n",
    "        bad_cnt += 1\n",
    "    \n",
    "left_real_level, right_real_level = proportion_confint(count = bad_cnt, nobs = N, alpha=0.05, method='wilson')\n",
    "print(f\"Не попал в {round(bad_cnt / N, 4) * 100}% случаев;\"\n",
    "      f\" доверительный интервал: [{round(left_real_level, 4) * 100}%, {round(right_real_level, 4) * 100}%]\")"
   ]
  },
  {
   "cell_type": "markdown",
   "metadata": {},
   "source": [
    "### Вот как будет это выглядеть в реальной жизни, допустим на каждую группу кидаем 5% трафика\n"
   ]
  },
  {
   "cell_type": "code",
   "execution_count": 6,
   "metadata": {
    "scrolled": true
   },
   "outputs": [
    {
     "data": {
      "application/vnd.jupyter.widget-view+json": {
       "model_id": "6e7d9d758a9240ab897420b50e5662f6",
       "version_major": 2,
       "version_minor": 0
      },
      "text/plain": [
       "  0%|          | 0/10000 [00:00<?, ?it/s]"
      ]
     },
     "metadata": {},
     "output_type": "display_data"
    },
    {
     "name": "stdout",
     "output_type": "stream",
     "text": [
      "Не попал в 4.73% случаев; доверительный интервал: [4.33%, 5.16%]\n"
     ]
    }
   ],
   "source": [
    "bad_cnt = 0\n",
    "\n",
    "N = 10000\n",
    "for i in tqdm_notebook(range(N)):\n",
    "    control_before_full = sps.expon(scale=1000).rvs(1000 * 10)\n",
    "    samples_in_ab = 2000\n",
    "    indexes_to_take_a = np.random.choice(range(len_full),samples_in_ab//2,False)\n",
    "    indexes_to_take_b = [x for x in range(2000) if x not in indexes_to_take_a]\n",
    "    \n",
    "    control_before_a = control_before_full[indexes_to_take_a]\n",
    "    control_before_b = control_before_full[indexes_to_take_b]\n",
    "    \n",
    "    control_after_a = control_before_a + sps.norm(loc=0, scale=100).rvs(samples_in_ab//2)\n",
    "    control_after_b = control_before_b + sps.norm(loc=0, scale=100).rvs(samples_in_ab//2)\n",
    "\n",
    "    control_cup_a = control_after_a - (control_before_a - np.mean(control_before_full))\n",
    "    control_cup_b = control_after_b - (control_before_b - np.mean(control_before_full))\n",
    "\n",
    "    \n",
    "    if kstest(control_cup_a,control_cup_b).pvalue < 0.05:\n",
    "        bad_cnt += 1\n",
    "    \n",
    "left_real_level, right_real_level = proportion_confint(count = bad_cnt, nobs = N, alpha=0.05, method='wilson')\n",
    "print(f\"Не попал в {round(bad_cnt / N, 4) * 100}% случаев;\"\n",
    "      f\" доверительный интервал: [{round(left_real_level, 4) * 100}%, {round(right_real_level, 4) * 100}%]\")"
   ]
  },
  {
   "cell_type": "markdown",
   "metadata": {},
   "source": [
    "### Добавим Шум и посмотрим как справится Cuped\n"
   ]
  },
  {
   "cell_type": "code",
   "execution_count": 7,
   "metadata": {},
   "outputs": [
    {
     "data": {
      "application/vnd.jupyter.widget-view+json": {
       "model_id": "c8a4028684c547518b1cdcd8f4fe4ab8",
       "version_major": 2,
       "version_minor": 0
      },
      "text/plain": [
       "  0%|          | 0/10000 [00:00<?, ?it/s]"
      ]
     },
     "metadata": {},
     "output_type": "display_data"
    },
    {
     "name": "stdout",
     "output_type": "stream",
     "text": [
      "Не попал в 47.72% случаев; доверительный интервал: [46.739999999999995%, 48.699999999999996%]\n"
     ]
    }
   ],
   "source": [
    "\n",
    "bad_cnt = 0\n",
    "\n",
    "N = 10000\n",
    "for i in tqdm_notebook(range(N)):\n",
    "    control_before_full = sps.expon(scale=1000).rvs(1000 * 10)\n",
    "    samples_in_ab = 2000\n",
    "    indexes_to_take_a = np.random.choice(range(len_full),samples_in_ab//2,False)\n",
    "    indexes_to_take_b = [x for x in range(2000) if x not in indexes_to_take_a]\n",
    "    \n",
    "    control_before_a = control_before_full[indexes_to_take_a]\n",
    "    control_before_b = control_before_full[indexes_to_take_b]\n",
    "    \n",
    "    control_after_a = control_before_a + sps.norm(loc=0, scale=100).rvs(samples_in_ab//2)\n",
    "    control_after_b = control_before_b + sps.norm(loc=10, scale=100).rvs(samples_in_ab//2) # добавляем немного шума\n",
    "\n",
    "    control_cup_a = control_after_a - (control_before_a - np.mean(control_before_full))\n",
    "    control_cup_b = control_after_b - (control_before_b - np.mean(control_before_full))\n",
    "\n",
    "    \n",
    "    if kstest(control_cup_a,control_cup_b).pvalue < 0.05:\n",
    "        bad_cnt += 1\n",
    "    \n",
    "left_real_level, right_real_level = proportion_confint(count = bad_cnt, nobs = N, alpha=0.05, method='wilson')\n",
    "print(f\"Не попал в {round(bad_cnt / N, 4) * 100}% случаев;\"\n",
    "      f\" доверительный интервал: [{round(left_real_level, 4) * 100}%, {round(right_real_level, 4) * 100}%]\")"
   ]
  },
  {
   "cell_type": "markdown",
   "metadata": {},
   "source": [
    "### Тоже самое но без Cuped"
   ]
  },
  {
   "cell_type": "code",
   "execution_count": 8,
   "metadata": {},
   "outputs": [
    {
     "data": {
      "application/vnd.jupyter.widget-view+json": {
       "model_id": "83e167b243f64b2da54b2fbfd79c8bf9",
       "version_major": 2,
       "version_minor": 0
      },
      "text/plain": [
       "  0%|          | 0/10000 [00:00<?, ?it/s]"
      ]
     },
     "metadata": {},
     "output_type": "display_data"
    },
    {
     "name": "stdout",
     "output_type": "stream",
     "text": [
      "Не попал в 5.56% случаев; доверительный интервал: [5.13%, 6.03%]\n"
     ]
    }
   ],
   "source": [
    "bad_cnt = 0\n",
    "\n",
    "N = 10000\n",
    "for i in tqdm_notebook(range(N)):\n",
    "    control_before_full = sps.expon(scale=1000).rvs(1000 * 10)\n",
    "    samples_in_ab = 2000\n",
    "    indexes_to_take_a = np.random.choice(range(len_full),samples_in_ab//2,False)\n",
    "    indexes_to_take_b = [x for x in range(2000) if x not in indexes_to_take_a]\n",
    "    \n",
    "    control_before_a = control_before_full[indexes_to_take_a]\n",
    "    control_before_b = control_before_full[indexes_to_take_b]\n",
    "    \n",
    "    control_after_a = control_before_a + sps.norm(loc=0, scale=100).rvs(samples_in_ab//2)\n",
    "    control_after_b = control_before_b + sps.norm(loc=10, scale=100).rvs(samples_in_ab//2) # добавляем немного шума\n",
    "\n",
    "    control_cup_a = control_after_a #- (control_before_a - np.mean(control_before_full))\n",
    "    control_cup_b = control_after_b #- (control_before_b - np.mean(control_before_full))\n",
    "\n",
    "    \n",
    "    if kstest(control_cup_a,control_cup_b).pvalue < 0.05:\n",
    "        bad_cnt += 1\n",
    "    \n",
    "left_real_level, right_real_level = proportion_confint(count = bad_cnt, nobs = N, alpha=0.05, method='wilson')\n",
    "print(f\"Не попал в {round(bad_cnt / N, 4) * 100}% случаев;\"\n",
    "      f\" доверительный интервал: [{round(left_real_level, 4) * 100}%, {round(right_real_level, 4) * 100}%]\")"
   ]
  }
 ],
 "metadata": {
  "kernelspec": {
   "display_name": "Python 3 (ipykernel)",
   "language": "python",
   "name": "python3"
  },
  "language_info": {
   "codemirror_mode": {
    "name": "ipython",
    "version": 3
   },
   "file_extension": ".py",
   "mimetype": "text/x-python",
   "name": "python",
   "nbconvert_exporter": "python",
   "pygments_lexer": "ipython3",
   "version": "3.8.5"
  }
 },
 "nbformat": 4,
 "nbformat_minor": 4
}
