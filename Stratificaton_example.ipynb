{
 "cells": [
  {
   "cell_type": "code",
   "execution_count": 1,
   "id": "4b2bcd58",
   "metadata": {},
   "outputs": [],
   "source": [
    "import numpy as np\n",
    "from tqdm.notebook import tqdm as tqdm_notebook"
   ]
  },
  {
   "cell_type": "code",
   "execution_count": 2,
   "id": "999c594f",
   "metadata": {},
   "outputs": [],
   "source": [
    "def check_strat(total_len_sampled, n_iters = 100):\n",
    "    contain = 0\n",
    "    \n",
    "    for _ in tqdm_notebook(range(n_iters)):\n",
    "    \n",
    "        general_strata_1_size = 10**7\n",
    "        general_strata_2_size = 10**6\n",
    "\n",
    "        len_sampled = int(0.1*(general_strata_1_size + general_strata_2_size))\n",
    "\n",
    "        distr_1_general = np.random.normal(100,10,general_strata_1_size) #general distr of strata 1 1\n",
    "        distr_2_general = np.random.normal(50,5,general_strata_2_size)\n",
    "        \n",
    "        total_distr_general = np.concatenate((distr_1_general,distr_2_general)) #general distr of all data\n",
    "        global_mean = np.mean(total_distr_general)\n",
    "\n",
    "\n",
    "\n",
    "        indexes = np.random.choice(range(len(total_distr_general)),len_sampled,False)\n",
    "        distr_1 = total_distr_general[indexes[indexes <= general_strata_1_size]] # distr of sampled data for 1 strata before \n",
    "                                                                                    #ab test to compute weights \n",
    "        distr_2 = total_distr_general[indexes[indexes > general_strata_1_size]] \n",
    "\n",
    "        indexes = np.random.choice(range(len(total_distr_general)),len_sampled,False)\n",
    "        distr_3 = total_distr_general[indexes[indexes <= general_strata_1_size]] # dist 1-st strate during a/b test  \n",
    "                                                                                #to sample groups \n",
    "        distr_4 = total_distr_general[indexes[indexes > general_strata_1_size]] \n",
    "\n",
    "\n",
    "        total_distr = np.concatenate((distr_1,distr_2)) # dist before a/b test to compute weights \n",
    "        total_distr_sampled = np.concatenate((distr_3,distr_4)) # distr during ab test to sample data \n",
    "\n",
    "        w1 = len(distr_1)/len(total_distr) # we need to compute weights before a/b, otherwise it is overfiriing  \n",
    "        w2 = len(distr_2)/len(total_distr) # compute and use on the same sampke is not good for generalization \n",
    "        se_acc = [] \n",
    "   \n",
    "        indexes = np.random.choice(range(len(total_distr_sampled)),total_len_sampled,False) # samples for a/b\n",
    "        sample_strat_1 = total_distr_sampled[indexes[indexes <= len(distr_3)]] \n",
    "        sample_strat_2 = total_distr_sampled[indexes[indexes > len(distr_3)]]\n",
    "        var_strat = (np.var(sample_strat_1)*w1 + np.var(sample_strat_2)*w2)/total_len_sampled\n",
    "        strat_mean = w1 * np.mean(sample_strat_1) + w2 * np.mean(sample_strat_2) # we have a discrepance of var/sqrt(N)\n",
    "                                                                     #from expectations of general distr \n",
    "                                                                     # it will be distinct from  Esrs at var/sqrt(N)\n",
    "        se_strat = np.sqrt(var_strat)\n",
    "        se_acc.append(se_strat)\n",
    "        inside = 1\n",
    "        if global_mean < strat_mean - 2*se_strat or global_mean > strat_mean + 2*se_strat:\n",
    "            inside = 0\n",
    "        contain += inside\n",
    "\n",
    "\n",
    "    print('ratio within interval strat', contain/n_iters)\n",
    "    print('mean se strat', np.mean(se_acc))\n",
    "\n",
    "    means = []\n",
    "    for _ in range(n_iters*10):\n",
    "        sampled = np.random.choice(total_distr_sampled,total_len_sampled,True)\n",
    "        means.append(np.mean(sampled))\n",
    "    print('se bootstrap',np.std(means))\n",
    "    "
   ]
  },
  {
   "cell_type": "code",
   "execution_count": 3,
   "id": "111b9772",
   "metadata": {},
   "outputs": [
    {
     "data": {
      "application/vnd.jupyter.widget-view+json": {
       "model_id": "8db6c45dc8a549ad805d0399d1c745d4",
       "version_major": 2,
       "version_minor": 0
      },
      "text/plain": [
       "  0%|          | 0/100 [00:00<?, ?it/s]"
      ]
     },
     "metadata": {},
     "output_type": "display_data"
    },
    {
     "name": "stdout",
     "output_type": "stream",
     "text": [
      "ratio within interval strat 0.95\n",
      "mean se strat 0.3058037845230218\n",
      "se bootstrap 0.5401176070216431\n"
     ]
    },
    {
     "data": {
      "application/vnd.jupyter.widget-view+json": {
       "model_id": "1e4c3245f87d4e20ab86a8ee779f4881",
       "version_major": 2,
       "version_minor": 0
      },
      "text/plain": [
       "  0%|          | 0/100 [00:00<?, ?it/s]"
      ]
     },
     "metadata": {},
     "output_type": "display_data"
    },
    {
     "name": "stdout",
     "output_type": "stream",
     "text": [
      "ratio within interval strat 0.97\n",
      "mean se strat 0.09618386116807726\n",
      "se bootstrap 0.1680528509732642\n"
     ]
    },
    {
     "data": {
      "application/vnd.jupyter.widget-view+json": {
       "model_id": "d5e342754ea7484e95aa9e6579dac9c8",
       "version_major": 2,
       "version_minor": 0
      },
      "text/plain": [
       "  0%|          | 0/100 [00:00<?, ?it/s]"
      ]
     },
     "metadata": {},
     "output_type": "display_data"
    },
    {
     "name": "stdout",
     "output_type": "stream",
     "text": [
      "ratio within interval strat 0.94\n",
      "mean se strat 0.03070733053839183\n",
      "se bootstrap 0.0557754447176855\n"
     ]
    },
    {
     "data": {
      "application/vnd.jupyter.widget-view+json": {
       "model_id": "553e575f54284766876c96a540abf326",
       "version_major": 2,
       "version_minor": 0
      },
      "text/plain": [
       "  0%|          | 0/100 [00:00<?, ?it/s]"
      ]
     },
     "metadata": {},
     "output_type": "display_data"
    },
    {
     "name": "stdout",
     "output_type": "stream",
     "text": [
      "ratio within interval strat 0.89\n",
      "mean se strat 0.021611902001340094\n",
      "se bootstrap 0.037084507048551776\n"
     ]
    }
   ],
   "source": [
    "check_strat(1000,100)\n",
    "check_strat(10000,100)\n",
    "check_strat(100000,100)\n",
    "check_strat(200000,100)"
   ]
  },
  {
   "cell_type": "code",
   "execution_count": null,
   "id": "6f9b5410",
   "metadata": {},
   "outputs": [],
   "source": [
    "# ratio within interval strat 0.95\n",
    "# mean se strat 0.3058037845230218\n",
    "# se bootstrap 0.5401176070216431\n",
    "\n",
    "# ratio within interval strat 0.97\n",
    "# mean se strat 0.09618386116807726\n",
    "# se bootstrap 0.1680528509732642\n",
    "\n",
    "# ratio within interval strat 0.94\n",
    "# mean se strat 0.03070733053839183\n",
    "# se bootstrap 0.0557754447176855\n",
    "\n",
    "# ratio within interval strat 0.93\n",
    "# mean se strat 0.021577639321835842\n",
    "# se bootstrap 0.03894879287002662"
   ]
  },
  {
   "cell_type": "code",
   "execution_count": null,
   "id": "c6497665",
   "metadata": {},
   "outputs": [],
   "source": []
  }
 ],
 "metadata": {
  "kernelspec": {
   "display_name": "Python 3 (ipykernel)",
   "language": "python",
   "name": "python3"
  },
  "language_info": {
   "codemirror_mode": {
    "name": "ipython",
    "version": 3
   },
   "file_extension": ".py",
   "mimetype": "text/x-python",
   "name": "python",
   "nbconvert_exporter": "python",
   "pygments_lexer": "ipython3",
   "version": "3.8.5"
  }
 },
 "nbformat": 4,
 "nbformat_minor": 5
}
