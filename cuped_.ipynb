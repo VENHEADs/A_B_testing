{
 "cells": [
  {
   "cell_type": "code",
   "execution_count": 28,
   "metadata": {},
   "outputs": [],
   "source": [
    "import pandas as pd\n",
    "import numpy as np\n",
    "from scipy.stats import ttest_ind\n"
   ]
  },
  {
   "cell_type": "code",
   "execution_count": null,
   "metadata": {},
   "outputs": [],
   "source": [
    "\"\"\"\n",
    "$experiment_name = 'name';\n",
    "\n",
    "$ab_name = 'ab_' || $experiment_name;\n",
    "\n",
    "\n",
    "$before = (Select client_id, count(DISTINCT transaction_id) as  trans_before\n",
    "FROM RANGE( [-],[2019-12-04],[2019-12-10])\n",
    "Group by client_id);\n",
    "\n",
    "$after = (Select client_id, count(DISTINCT transaction_id) as  trans_after, some(ab) as ab\n",
    "From(\n",
    "Select client_id, transaction_id,t._other{$ab_name} AS ab\n",
    "FROM -\n",
    "Group by client_id);\n",
    "\n",
    "\n",
    "Select trans_after,trans_before,ab\n",
    "From $before as t1\n",
    "Inner join $after as t2\n",
    "On t1.client_id == t2.client_id\n",
    "where ab is not null\"\"\""
   ]
  },
  {
   "cell_type": "code",
   "execution_count": 4,
   "metadata": {},
   "outputs": [],
   "source": [
    "df = pd.read_csv('yt___tmp_prune_7dd3d357_b573f8f8_aceeccce_4fa497e6', sep = '\\t')"
   ]
  },
  {
   "cell_type": "code",
   "execution_count": 23,
   "metadata": {},
   "outputs": [],
   "source": [
    "after_val = df.trans_after.values\n",
    "before_val = df.trans_before.values\n",
    "\n",
    "theta = np.mean((before_val*after_val)) - np.mean(before_val)*np.mean(after_val) \n",
    "theta /= np.var(before_val)\n",
    "mean_cov = np.mean(before_val)\n",
    "df['cuped'] = df.trans_after - (df.trans_before - mean_cov) * theta"
   ]
  },
  {
   "cell_type": "code",
   "execution_count": 63,
   "metadata": {},
   "outputs": [
    {
     "name": "stdout",
     "output_type": "stream",
     "text": [
      "Ttest_indResult(statistic=-2.5257493082705538, pvalue=0.011545385944824868)\n",
      "Ttest_indResult(statistic=-4.253159312154111, pvalue=2.108008323454229e-05)\n",
      "Ttest_indResult(statistic=0.09592606962018291, pvalue=0.9235793148673668)\n",
      "Ttest_indResult(statistic=-1.6957344705276656, pvalue=0.08993658860009895)\n"
     ]
    }
   ],
   "source": [
    "print(ttest_ind(df.trans_after[df.ab=='more_ten'],df.trans_after[df.ab=='control'],equal_var=False))\n",
    "print(ttest_ind(df.cuped[df.ab=='more_ten'],df.cuped[df.ab=='control'],equal_var=False))\n",
    "print(ttest_ind(df.trans_after[df.ab=='original'],df.trans_after[df.ab=='control'],equal_var=False))\n",
    "print(ttest_ind(df.cuped[df.ab=='original'],df.cuped[df.ab=='control'],equal_var=False))"
   ]
  },
  {
   "cell_type": "code",
   "execution_count": 54,
   "metadata": {},
   "outputs": [
    {
     "name": "stdout",
     "output_type": "stream",
     "text": [
      "17.461332596757703\n",
      "17.44992058883577\n",
      "795.3281422131903\n",
      "1457.1648805786583\n"
     ]
    }
   ],
   "source": [
    "cuped_ten  = df.cuped[df.ab=='more_ten']\n",
    "ten = df.trans_after[df.ab=='more_ten']\n",
    "\n",
    "print(np.mean(cuped_ten))\n",
    "print(np.mean(ten))\n",
    "print(np.var(cuped_ten))\n",
    "print(np.var(ten))"
   ]
  },
  {
   "cell_type": "code",
   "execution_count": 59,
   "metadata": {},
   "outputs": [
    {
     "name": "stdout",
     "output_type": "stream",
     "text": [
      "960.2061781461643\n",
      "1547.7783024381563\n",
      "17.602244431955953\n",
      "17.602244431955956\n"
     ]
    }
   ],
   "source": [
    "print(np.var(df.cuped))\n",
    "print(np.var(df.trans_after))\n",
    "\n",
    "print(np.mean(df.cuped))\n",
    "print(np.mean(df.trans_after))"
   ]
  },
  {
   "cell_type": "markdown",
   "metadata": {},
   "source": [
    "### Stratification"
   ]
  },
  {
   "cell_type": "code",
   "execution_count": null,
   "metadata": {},
   "outputs": [],
   "source": [
    "\n",
    "import numpy as np\n",
    "strata_1 = np.random.normal(33, 200, 5000)\n",
    "strata_2 = np.random.normal(23, 20, 50000)\n",
    "strata_3  = np.random.normal(43, 5, 5000)\n",
    "total_data = np.concatenate((strata_1, strata_2, strata_3))\n",
    "SRS_var = 0\n",
    "SRS_mean = []\n",
    "Str_var = 0\n",
    "Str_mean = []\n",
    "n_tries = 200\n",
    "n_sample = 7000\n",
    "n_bigger = 0\n",
    "for i in range(n_tries):\n",
    "    c_1 = 0\n",
    "    c_2 = 0\n",
    "    c_3 = 0\n",
    "    res = []\n",
    "    sample = np.random.choice(total_data, n_sample,False)\n",
    "    SRS_mean += [np.mean(sample)]\n",
    "    for _ in range (n_sample):\n",
    "        random = np.random.random()\n",
    "        if random  < 5000/(50000+5000+5000):\n",
    "            res.append(np.random.choice(strata_1))\n",
    "        elif random  > 5000/(50000+5000+5000) and random < (5000+50000)/(50000+5000+5000):\n",
    "            res.append(np.random.choice(strata_2))\n",
    "        else:\n",
    "            res.append(np.random.choice(strata_3))\n",
    "    Str_mean += [np.mean(res)]\n",
    "print(np.mean(Str_mean))\n",
    "print(np.mean(SRS_mean))\n",
    "print(np.var(Str_mean))\n",
    "print(np.var(SRS_mean))\n",
    "print(np.std(Str_mean))\n",
    "print(np.std(SRS_mean))"
   ]
  }
 ],
 "metadata": {
  "kernelspec": {
   "display_name": "venheads",
   "language": "python",
   "name": "venheads"
  },
  "language_info": {
   "codemirror_mode": {
    "name": "ipython",
    "version": 3
   },
   "file_extension": ".py",
   "mimetype": "text/x-python",
   "name": "python",
   "nbconvert_exporter": "python",
   "pygments_lexer": "ipython3",
   "version": "3.7.5"
  }
 },
 "nbformat": 4,
 "nbformat_minor": 2
}
