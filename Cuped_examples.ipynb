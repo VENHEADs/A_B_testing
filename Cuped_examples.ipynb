{
 "cells": [
  {
   "cell_type": "code",
   "execution_count": 1,
   "metadata": {},
   "outputs": [],
   "source": [
    "import scipy.stats as sps\n",
    "from tqdm.notebook import tqdm as tqdm_notebook \n",
    "from collections import defaultdict\n",
    "from statsmodels.stats.proportion import proportion_confint\n",
    "import numpy as np\n",
    "import itertools\n",
    "from scipy.stats import ttest_ind,kstest"
   ]
  },
  {
   "cell_type": "markdown",
   "metadata": {},
   "source": [
    "### Example of overfitting"
   ]
  },
  {
   "cell_type": "code",
   "execution_count": 2,
   "metadata": {},
   "outputs": [
    {
     "data": {
      "application/vnd.jupyter.widget-view+json": {
       "model_id": "7a1cb29c5cc0425997a541c137c0b270",
       "version_major": 2,
       "version_minor": 0
      },
      "text/plain": [
       "  0%|          | 0/10000 [00:00<?, ?it/s]"
      ]
     },
     "metadata": {},
     "output_type": "display_data"
    },
    {
     "name": "stdout",
     "output_type": "stream",
     "text": [
      "Не попал в 84.98% случаев; доверительный интервал: [84.27%, 85.67%]\n"
     ]
    }
   ],
   "source": [
    "bad_cnt = 0\n",
    "\n",
    "N = 10000\n",
    "for i in tqdm_notebook(range(N)):\n",
    "    control_before = sps.expon(scale=1000).rvs(1000)\n",
    "    control = control_before + sps.norm(loc=0, scale=100).rvs(1000)\n",
    "\n",
    "    control_cup = control - (control_before - np.mean(control_before))\n",
    "    std = np.std(control_cup) / np.sqrt(len(control_cup))\n",
    "    mean = np.mean(control_cup)\n",
    "\n",
    "    left_bound, right_bound = sps.norm(loc=mean, scale=std).ppf([0.025, 0.975])\n",
    "    \n",
    "    if left_bound > 1000 or right_bound < 1000:\n",
    "        bad_cnt += 1\n",
    "    \n",
    "left_real_level, right_real_level = proportion_confint(count = bad_cnt, nobs = N, alpha=0.05, method='wilson')\n",
    "print(f\"Не попал в {round(bad_cnt / N, 4) * 100}% случаев;\"\n",
    "      f\" доверительный интервал: [{round(left_real_level, 4) * 100}%, {round(right_real_level, 4) * 100}%]\")"
   ]
  },
  {
   "cell_type": "markdown",
   "metadata": {},
   "source": [
    "### If Distribution is known"
   ]
  },
  {
   "cell_type": "code",
   "execution_count": 3,
   "metadata": {},
   "outputs": [
    {
     "data": {
      "application/vnd.jupyter.widget-view+json": {
       "model_id": "cd703c8dcd49450b9c14f948255a7eb4",
       "version_major": 2,
       "version_minor": 0
      },
      "text/plain": [
       "  0%|          | 0/10000 [00:00<?, ?it/s]"
      ]
     },
     "metadata": {},
     "output_type": "display_data"
    },
    {
     "name": "stdout",
     "output_type": "stream",
     "text": [
      "Не попал в 4.67% случаев; доверительный интервал: [4.2700000000000005%, 5.1%]\n"
     ]
    }
   ],
   "source": [
    "bad_cnt = 0\n",
    "\n",
    "N = 10000\n",
    "for i in tqdm_notebook(range(N)):\n",
    "    control_before = sps.expon(scale=1000).rvs(1000)\n",
    "    control = control_before + sps.norm(loc=0, scale=100).rvs(1000)\n",
    "\n",
    "    control_cup = control - (control_before - 1000)\n",
    "    std = np.std(control_cup) / np.sqrt(len(control_cup))\n",
    "    mean = np.mean(control_cup)\n",
    "\n",
    "    left_bound, right_bound = sps.norm(loc=mean, scale=std).ppf([0.025, 0.975])\n",
    "    \n",
    "    if left_bound > 1000 or right_bound < 1000:\n",
    "        bad_cnt += 1\n",
    "    \n",
    "left_real_level, right_real_level = proportion_confint(count = bad_cnt, nobs = N, alpha=0.05, method='wilson')\n",
    "print(f\"Не попал в {round(bad_cnt / N, 4) * 100}% случаев;\"\n",
    "      f\" доверительный интервал: [{round(left_real_level, 4) * 100}%, {round(right_real_level, 4) * 100}%]\")"
   ]
  },
  {
   "cell_type": "markdown",
   "metadata": {},
   "source": [
    "### If distribution is not known, but the there is  enough data\n"
   ]
  },
  {
   "cell_type": "code",
   "execution_count": 4,
   "metadata": {},
   "outputs": [
    {
     "data": {
      "application/vnd.jupyter.widget-view+json": {
       "model_id": "c9223815477a42868f5baee06b23a970",
       "version_major": 2,
       "version_minor": 0
      },
      "text/plain": [
       "  0%|          | 0/10000 [00:00<?, ?it/s]"
      ]
     },
     "metadata": {},
     "output_type": "display_data"
    },
    {
     "name": "stdout",
     "output_type": "stream",
     "text": [
      "Не попал в 6.76% случаев; доверительный интервал: [6.279999999999999%, 7.2700000000000005%]\n"
     ]
    }
   ],
   "source": [
    "bad_cnt = 0\n",
    "\n",
    "N = 10000\n",
    "control_before_general = sps.expon(scale=1000).rvs(1000 * 1000)\n",
    "for i in tqdm_notebook(range(N)):\n",
    "    control_before = sps.expon(scale=1000).rvs(1000)\n",
    "    control = control_before + sps.norm(loc=0, scale=100).rvs(1000)\n",
    "\n",
    "    control_cup = control - (control_before - np.mean(control_before_general))\n",
    "    std = np.std(control_cup) / np.sqrt(len(control_cup))\n",
    "    mean = np.mean(control_cup)\n",
    "\n",
    "    left_bound, right_bound = sps.norm(loc=mean, scale=std).ppf([0.025, 0.975])\n",
    "    \n",
    "    if left_bound > 1000 or right_bound < 1000:\n",
    "        bad_cnt += 1\n",
    "    \n",
    "left_real_level, right_real_level = proportion_confint(count = bad_cnt, nobs = N, alpha=0.05, method='wilson')\n",
    "print(f\"Не попал в {round(bad_cnt / N, 4) * 100}% случаев;\"\n",
    "      f\" доверительный интервал: [{round(left_real_level, 4) * 100}%, {round(right_real_level, 4) * 100}%]\")"
   ]
  },
  {
   "cell_type": "markdown",
   "metadata": {},
   "source": [
    "### Real life exapmle worst case\n"
   ]
  },
  {
   "cell_type": "code",
   "execution_count": 5,
   "metadata": {},
   "outputs": [
    {
     "data": {
      "application/vnd.jupyter.widget-view+json": {
       "model_id": "bb70f6eca7c24517bbbf50344e101465",
       "version_major": 2,
       "version_minor": 0
      },
      "text/plain": [
       "  0%|          | 0/10000 [00:00<?, ?it/s]"
      ]
     },
     "metadata": {},
     "output_type": "display_data"
    },
    {
     "name": "stdout",
     "output_type": "stream",
     "text": [
      "Не попал в 5.07% случаев; доверительный интервал: [4.66%, 5.52%]\n"
     ]
    }
   ],
   "source": [
    "bad_cnt = 0\n",
    "\n",
    "N = 10000\n",
    "for i in tqdm_notebook(range(N)):\n",
    "    control_before_full = sps.expon(scale=1000).rvs(1000 * 2)\n",
    "    len_full = len(control_before_full)\n",
    "    indexes_to_take_a = np.random.choice(range(len_full),len_full//2,False)\n",
    "    indexes_to_take_b = [x for x in range(2000) if x not in indexes_to_take_a]\n",
    "    \n",
    "    control_before_a = control_before_full[indexes_to_take_a]\n",
    "    control_before_b = control_before_full[indexes_to_take_b]\n",
    "    \n",
    "    control_after_a = control_before_a + sps.norm(loc=0, scale=100).rvs(len_full//2)\n",
    "    control_after_b = control_before_b + sps.norm(loc=0, scale=100).rvs(len_full//2)\n",
    "\n",
    "    control_cup_a = control_after_a - (control_before_a - np.mean(control_before_full))\n",
    "    control_cup_b = control_after_b - (control_before_b - np.mean(control_before_full))\n",
    "\n",
    "    \n",
    "    if kstest(control_cup_a,control_cup_b).pvalue < 0.05:\n",
    "        bad_cnt += 1\n",
    "    \n",
    "left_real_level, right_real_level = proportion_confint(count = bad_cnt, nobs = N, alpha=0.05, method='wilson')\n",
    "print(f\"Не попал в {round(bad_cnt / N, 4) * 100}% случаев;\"\n",
    "      f\" доверительный интервал: [{round(left_real_level, 4) * 100}%, {round(right_real_level, 4) * 100}%]\")"
   ]
  },
  {
   "cell_type": "markdown",
   "metadata": {},
   "source": [
    "### real life example with a/b done on less that 100% of whole data\n"
   ]
  },
  {
   "cell_type": "code",
   "execution_count": 6,
   "metadata": {
    "scrolled": true
   },
   "outputs": [
    {
     "data": {
      "application/vnd.jupyter.widget-view+json": {
       "model_id": "d4ad209ae0b44bcea6ec7dbc4f816eca",
       "version_major": 2,
       "version_minor": 0
      },
      "text/plain": [
       "  0%|          | 0/10000 [00:00<?, ?it/s]"
      ]
     },
     "metadata": {},
     "output_type": "display_data"
    },
    {
     "name": "stdout",
     "output_type": "stream",
     "text": [
      "Не попал в 5.24% случаев; доверительный интервал: [4.82%, 5.6899999999999995%]\n"
     ]
    }
   ],
   "source": [
    "bad_cnt = 0\n",
    "\n",
    "N = 10000\n",
    "for i in tqdm_notebook(range(N)):\n",
    "    control_before_full = sps.expon(scale=1000).rvs(1000 * 10)\n",
    "    samples_in_ab = 2000\n",
    "    indexes_to_take_a = np.random.choice(range(samples_in_ab),samples_in_ab//2,False)\n",
    "    indexes_to_take_b = [x for x in range(samples_in_ab) if x not in indexes_to_take_a]\n",
    "    \n",
    "    control_before_a = control_before_full[indexes_to_take_a]\n",
    "    control_before_b = control_before_full[indexes_to_take_b]\n",
    "    \n",
    "    control_after_a = control_before_a + sps.norm(loc=0, scale=100).rvs(samples_in_ab//2)\n",
    "    control_after_b = control_before_b + sps.norm(loc=0, scale=100).rvs(samples_in_ab//2)\n",
    "\n",
    "    control_cup_a = control_after_a - (control_before_a - np.mean(control_before_full))\n",
    "    control_cup_b = control_after_b - (control_before_b - np.mean(control_before_full))\n",
    "\n",
    "    \n",
    "    if kstest(control_cup_a,control_cup_b).pvalue < 0.05:\n",
    "        bad_cnt += 1\n",
    "    \n",
    "left_real_level, right_real_level = proportion_confint(count = bad_cnt, nobs = N, alpha=0.05, method='wilson')\n",
    "print(f\"Не попал в {round(bad_cnt / N, 4) * 100}% случаев;\"\n",
    "      f\" доверительный интервал: [{round(left_real_level, 4) * 100}%, {round(right_real_level, 4) * 100}%]\")"
   ]
  },
  {
   "cell_type": "markdown",
   "metadata": {},
   "source": [
    "### Add some noise and see how Cuped deals with that\n"
   ]
  },
  {
   "cell_type": "code",
   "execution_count": 7,
   "metadata": {},
   "outputs": [
    {
     "data": {
      "application/vnd.jupyter.widget-view+json": {
       "model_id": "bf0c3b87ffed432d9450256d2485512e",
       "version_major": 2,
       "version_minor": 0
      },
      "text/plain": [
       "  0%|          | 0/10000 [00:00<?, ?it/s]"
      ]
     },
     "metadata": {},
     "output_type": "display_data"
    },
    {
     "name": "stdout",
     "output_type": "stream",
     "text": [
      "Не попал в 48.26% случаев; доверительный интервал: [47.28%, 49.24%]\n"
     ]
    }
   ],
   "source": [
    "\n",
    "bad_cnt = 0\n",
    "\n",
    "N = 10000\n",
    "for i in tqdm_notebook(range(N)):\n",
    "    control_before_full = sps.expon(scale=1000).rvs(1000 * 10)\n",
    "    samples_in_ab = 2000\n",
    "    indexes_to_take_a = np.random.choice(range(samples_in_ab),samples_in_ab//2,False)\n",
    "    indexes_to_take_b = [x for x in range(samples_in_ab) if x not in indexes_to_take_a]\n",
    "    \n",
    "    control_before_a = control_before_full[indexes_to_take_a]\n",
    "    control_before_b = control_before_full[indexes_to_take_b]\n",
    "    \n",
    "    control_after_a = control_before_a + sps.norm(loc=0, scale=100).rvs(samples_in_ab//2)\n",
    "    control_after_b = control_before_b + sps.norm(loc=10, scale=100).rvs(samples_in_ab//2) # добавляем немного шума\n",
    "\n",
    "    control_cup_a = control_after_a - (control_before_a - np.mean(control_before_full))\n",
    "    control_cup_b = control_after_b - (control_before_b - np.mean(control_before_full))\n",
    "\n",
    "    \n",
    "    if kstest(control_cup_a,control_cup_b).pvalue < 0.05:\n",
    "        bad_cnt += 1\n",
    "    \n",
    "left_real_level, right_real_level = proportion_confint(count = bad_cnt, nobs = N, alpha=0.05, method='wilson')\n",
    "print(f\"Не попал в {round(bad_cnt / N, 4) * 100}% случаев;\"\n",
    "      f\" доверительный интервал: [{round(left_real_level, 4) * 100}%, {round(right_real_level, 4) * 100}%]\")"
   ]
  },
  {
   "cell_type": "markdown",
   "metadata": {},
   "source": [
    "### Same, but without Cuped"
   ]
  },
  {
   "cell_type": "code",
   "execution_count": 8,
   "metadata": {
    "scrolled": true
   },
   "outputs": [
    {
     "data": {
      "application/vnd.jupyter.widget-view+json": {
       "model_id": "01f979251cfc41208e16112ec7bbf8c9",
       "version_major": 2,
       "version_minor": 0
      },
      "text/plain": [
       "  0%|          | 0/10000 [00:00<?, ?it/s]"
      ]
     },
     "metadata": {},
     "output_type": "display_data"
    },
    {
     "name": "stdout",
     "output_type": "stream",
     "text": [
      "Не попал в 5.8999999999999995% случаев; доверительный интервал: [5.45%, 6.38%]\n"
     ]
    }
   ],
   "source": [
    "bad_cnt = 0\n",
    "\n",
    "N = 10000\n",
    "for i in tqdm_notebook(range(N)):\n",
    "    control_before_full = sps.expon(scale=1000).rvs(1000 * 10)\n",
    "    samples_in_ab = 2000\n",
    "    indexes_to_take_a = np.random.choice(range(samples_in_ab),samples_in_ab//2,False)\n",
    "    indexes_to_take_b = [x for x in range(samples_in_ab) if x not in indexes_to_take_a]\n",
    "    \n",
    "    control_before_a = control_before_full[indexes_to_take_a]\n",
    "    control_before_b = control_before_full[indexes_to_take_b]\n",
    "    \n",
    "    control_after_a = control_before_a + sps.norm(loc=0, scale=100).rvs(samples_in_ab//2)\n",
    "    control_after_b = control_before_b + sps.norm(loc=10, scale=100).rvs(samples_in_ab//2) # добавляем немного шума\n",
    "\n",
    "    control_cup_a = control_after_a #- (control_before_a - np.mean(control_before_full))\n",
    "    control_cup_b = control_after_b #- (control_before_b - np.mean(control_before_full))\n",
    "\n",
    "    \n",
    "    if kstest(control_cup_a,control_cup_b).pvalue < 0.05:\n",
    "        bad_cnt += 1\n",
    "    \n",
    "left_real_level, right_real_level = proportion_confint(count = bad_cnt, nobs = N, alpha=0.05, method='wilson')\n",
    "print(f\"Не попал в {round(bad_cnt / N, 4) * 100}% случаев;\"\n",
    "      f\" доверительный интервал: [{round(left_real_level, 4) * 100}%, {round(right_real_level, 4) * 100}%]\")"
   ]
  },
  {
   "cell_type": "markdown",
   "metadata": {},
   "source": [
    "### More noise"
   ]
  },
  {
   "cell_type": "markdown",
   "metadata": {},
   "source": [
    "### С Cuped"
   ]
  },
  {
   "cell_type": "code",
   "execution_count": 9,
   "metadata": {},
   "outputs": [
    {
     "data": {
      "application/vnd.jupyter.widget-view+json": {
       "model_id": "d82acfd9baa94aee8092e1f795ffcb56",
       "version_major": 2,
       "version_minor": 0
      },
      "text/plain": [
       "  0%|          | 0/10000 [00:00<?, ?it/s]"
      ]
     },
     "metadata": {},
     "output_type": "display_data"
    },
    {
     "name": "stdout",
     "output_type": "stream",
     "text": [
      "Не попал в 100.0% случаев; доверительный интервал: [99.96000000000001%, 100.0%]\n"
     ]
    }
   ],
   "source": [
    "\n",
    "bad_cnt = 0\n",
    "\n",
    "N = 10000\n",
    "for i in tqdm_notebook(range(N)):\n",
    "    control_before_full = sps.expon(scale=1000).rvs(1000 * 10)\n",
    "    samples_in_ab = 2000\n",
    "    indexes_to_take_a = np.random.choice(range(samples_in_ab),samples_in_ab//2,False)\n",
    "    indexes_to_take_b = [x for x in range(samples_in_ab) if x not in indexes_to_take_a]\n",
    "    \n",
    "    control_before_a = control_before_full[indexes_to_take_a]\n",
    "    control_before_b = control_before_full[indexes_to_take_b]\n",
    "    \n",
    "    control_after_a = control_before_a + sps.norm(loc=0, scale=100).rvs(samples_in_ab//2)\n",
    "    control_after_b = control_before_b + sps.norm(loc=50, scale=100).rvs(samples_in_ab//2) # добавляем немного шума\n",
    "\n",
    "    control_cup_a = control_after_a - (control_before_a - np.mean(control_before_full))\n",
    "    control_cup_b = control_after_b - (control_before_b - np.mean(control_before_full))\n",
    "\n",
    "    \n",
    "    if kstest(control_cup_a,control_cup_b).pvalue < 0.05:\n",
    "        bad_cnt += 1\n",
    "    \n",
    "left_real_level, right_real_level = proportion_confint(count = bad_cnt, nobs = N, alpha=0.05, method='wilson')\n",
    "print(f\"Не попал в {round(bad_cnt / N, 4) * 100}% случаев;\"\n",
    "      f\" доверительный интервал: [{round(left_real_level, 4) * 100}%, {round(right_real_level, 4) * 100}%]\")"
   ]
  },
  {
   "cell_type": "markdown",
   "metadata": {},
   "source": [
    "### Без cuped"
   ]
  },
  {
   "cell_type": "code",
   "execution_count": 10,
   "metadata": {},
   "outputs": [
    {
     "data": {
      "application/vnd.jupyter.widget-view+json": {
       "model_id": "311e6a04459e475a9b3b77ee00a66a0e",
       "version_major": 2,
       "version_minor": 0
      },
      "text/plain": [
       "  0%|          | 0/10000 [00:00<?, ?it/s]"
      ]
     },
     "metadata": {},
     "output_type": "display_data"
    },
    {
     "name": "stdout",
     "output_type": "stream",
     "text": [
      "Не попал в 38.940000000000005% случаев; доверительный интервал: [37.99%, 39.900000000000006%]\n"
     ]
    }
   ],
   "source": [
    "bad_cnt = 0\n",
    "\n",
    "N = 10000\n",
    "for i in tqdm_notebook(range(N)):\n",
    "    control_before_full = sps.expon(scale=1000).rvs(1000 * 10)\n",
    "    samples_in_ab = 2000\n",
    "    indexes_to_take_a = np.random.choice(range(samples_in_ab),samples_in_ab//2,False)\n",
    "    indexes_to_take_b = [x for x in range(samples_in_ab) if x not in indexes_to_take_a]\n",
    "    \n",
    "    control_before_a = control_before_full[indexes_to_take_a]\n",
    "    control_before_b = control_before_full[indexes_to_take_b]\n",
    "    \n",
    "    control_after_a = control_before_a + sps.norm(loc=0, scale=100).rvs(samples_in_ab//2)\n",
    "    control_after_b = control_before_b + sps.norm(loc=50, scale=100).rvs(samples_in_ab//2) # добавляем немного шума\n",
    "\n",
    "    control_cup_a = control_after_a #- (control_before_a - np.mean(control_before_full))\n",
    "    control_cup_b = control_after_b #- (control_before_b - np.mean(control_before_full))\n",
    "\n",
    "    \n",
    "    if kstest(control_cup_a,control_cup_b).pvalue < 0.05:\n",
    "        bad_cnt += 1\n",
    "    \n",
    "left_real_level, right_real_level = proportion_confint(count = bad_cnt, nobs = N, alpha=0.05, method='wilson')\n",
    "print(f\"Не попал в {round(bad_cnt / N, 4) * 100}% случаев;\"\n",
    "      f\" доверительный интервал: [{round(left_real_level, 4) * 100}%, {round(right_real_level, 4) * 100}%]\")"
   ]
  },
  {
   "cell_type": "code",
   "execution_count": null,
   "metadata": {},
   "outputs": [],
   "source": []
  }
 ],
 "metadata": {
  "kernelspec": {
   "display_name": "Python 3 (ipykernel)",
   "language": "python",
   "name": "python3"
  },
  "language_info": {
   "codemirror_mode": {
    "name": "ipython",
    "version": 3
   },
   "file_extension": ".py",
   "mimetype": "text/x-python",
   "name": "python",
   "nbconvert_exporter": "python",
   "pygments_lexer": "ipython3",
   "version": "3.8.5"
  }
 },
 "nbformat": 4,
 "nbformat_minor": 4
}
