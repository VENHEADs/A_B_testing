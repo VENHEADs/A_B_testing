{
 "cells": [
  {
   "cell_type": "code",
   "execution_count": 1,
   "metadata": {},
   "outputs": [],
   "source": [
    "import scipy.stats as sps\n",
    "from tqdm.notebook import tqdm as tqdm_notebook \n",
    "from collections import defaultdict\n",
    "from statsmodels.stats.proportion import proportion_confint\n",
    "import numpy as np\n",
    "import itertools\n",
    "from scipy.stats import ttest_ind,kstest"
   ]
  },
  {
   "cell_type": "markdown",
   "metadata": {},
   "source": [
    "### Пример переобучения"
   ]
  },
  {
   "cell_type": "code",
   "execution_count": 2,
   "metadata": {},
   "outputs": [
    {
     "data": {
      "application/vnd.jupyter.widget-view+json": {
       "model_id": "8c399e415dc14e3e86c6d36aed507d83",
       "version_major": 2,
       "version_minor": 0
      },
      "text/plain": [
       "  0%|          | 0/10000 [00:00<?, ?it/s]"
      ]
     },
     "metadata": {},
     "output_type": "display_data"
    },
    {
     "name": "stdout",
     "output_type": "stream",
     "text": [
      "Не попал в 84.15% случаев; доверительный интервал: [83.42%, 84.85000000000001%]\n"
     ]
    }
   ],
   "source": [
    "bad_cnt = 0\n",
    "\n",
    "N = 10000\n",
    "for i in tqdm_notebook(range(N)):\n",
    "    control_before = sps.expon(scale=1000).rvs(1000)\n",
    "    control = control_before + sps.norm(loc=0, scale=100).rvs(1000)\n",
    "\n",
    "    control_cup = control - (control_before - np.mean(control_before))\n",
    "    std = np.std(control_cup) / np.sqrt(len(control_cup))\n",
    "    mean = np.mean(control_cup)\n",
    "\n",
    "    left_bound, right_bound = sps.norm(loc=mean, scale=std).ppf([0.025, 0.975])\n",
    "    \n",
    "    if left_bound > 1000 or right_bound < 1000:\n",
    "        bad_cnt += 1\n",
    "    \n",
    "left_real_level, right_real_level = proportion_confint(count = bad_cnt, nobs = N, alpha=0.05, method='wilson')\n",
    "print(f\"Не попал в {round(bad_cnt / N, 4) * 100}% случаев;\"\n",
    "      f\" доверительный интервал: [{round(left_real_level, 4) * 100}%, {round(right_real_level, 4) * 100}%]\")"
   ]
  },
  {
   "cell_type": "markdown",
   "metadata": {},
   "source": [
    "### Если распределение известно"
   ]
  },
  {
   "cell_type": "code",
   "execution_count": 3,
   "metadata": {},
   "outputs": [
    {
     "data": {
      "application/vnd.jupyter.widget-view+json": {
       "model_id": "0540f6306d46435890377fb920baf951",
       "version_major": 2,
       "version_minor": 0
      },
      "text/plain": [
       "  0%|          | 0/10000 [00:00<?, ?it/s]"
      ]
     },
     "metadata": {},
     "output_type": "display_data"
    },
    {
     "name": "stdout",
     "output_type": "stream",
     "text": [
      "Не попал в 5.1% случаев; доверительный интервал: [4.6899999999999995%, 5.55%]\n"
     ]
    }
   ],
   "source": [
    "bad_cnt = 0\n",
    "\n",
    "N = 10000\n",
    "for i in tqdm_notebook(range(N)):\n",
    "    control_before = sps.expon(scale=1000).rvs(1000)\n",
    "    control = control_before + sps.norm(loc=0, scale=100).rvs(1000)\n",
    "\n",
    "    control_cup = control - (control_before - 1000)\n",
    "    std = np.std(control_cup) / np.sqrt(len(control_cup))\n",
    "    mean = np.mean(control_cup)\n",
    "\n",
    "    left_bound, right_bound = sps.norm(loc=mean, scale=std).ppf([0.025, 0.975])\n",
    "    \n",
    "    if left_bound > 1000 or right_bound < 1000:\n",
    "        bad_cnt += 1\n",
    "    \n",
    "left_real_level, right_real_level = proportion_confint(count = bad_cnt, nobs = N, alpha=0.05, method='wilson')\n",
    "print(f\"Не попал в {round(bad_cnt / N, 4) * 100}% случаев;\"\n",
    "      f\" доверительный интервал: [{round(left_real_level, 4) * 100}%, {round(right_real_level, 4) * 100}%]\")"
   ]
  },
  {
   "cell_type": "markdown",
   "metadata": {},
   "source": [
    "### Допустим я не знаю параметры распределения, но у меня много данных\n"
   ]
  },
  {
   "cell_type": "code",
   "execution_count": 4,
   "metadata": {},
   "outputs": [
    {
     "data": {
      "application/vnd.jupyter.widget-view+json": {
       "model_id": "fb55e73962004bb39a3e6378b2ad9cdf",
       "version_major": 2,
       "version_minor": 0
      },
      "text/plain": [
       "  0%|          | 0/10000 [00:00<?, ?it/s]"
      ]
     },
     "metadata": {},
     "output_type": "display_data"
    },
    {
     "name": "stdout",
     "output_type": "stream",
     "text": [
      "Не попал в 4.9399999999999995% случаев; доверительный интервал: [4.53%, 5.38%]\n"
     ]
    }
   ],
   "source": [
    "bad_cnt = 0\n",
    "\n",
    "N = 10000\n",
    "control_before_general = sps.expon(scale=1000).rvs(1000 * 1000)\n",
    "for i in tqdm_notebook(range(N)):\n",
    "    control_before = sps.expon(scale=1000).rvs(1000)\n",
    "    control = control_before + sps.norm(loc=0, scale=100).rvs(1000)\n",
    "\n",
    "    control_cup = control - (control_before - np.mean(control_before_general))\n",
    "    std = np.std(control_cup) / np.sqrt(len(control_cup))\n",
    "    mean = np.mean(control_cup)\n",
    "\n",
    "    left_bound, right_bound = sps.norm(loc=mean, scale=std).ppf([0.025, 0.975])\n",
    "    \n",
    "    if left_bound > 1000 or right_bound < 1000:\n",
    "        bad_cnt += 1\n",
    "    \n",
    "left_real_level, right_real_level = proportion_confint(count = bad_cnt, nobs = N, alpha=0.05, method='wilson')\n",
    "print(f\"Не попал в {round(bad_cnt / N, 4) * 100}% случаев;\"\n",
    "      f\" доверительный интервал: [{round(left_real_level, 4) * 100}%, {round(right_real_level, 4) * 100}%]\")"
   ]
  },
  {
   "cell_type": "markdown",
   "metadata": {},
   "source": [
    "### Вот как будет это выглядеть в реальной жизни при самом плохом случае\n"
   ]
  },
  {
   "cell_type": "code",
   "execution_count": 5,
   "metadata": {},
   "outputs": [
    {
     "data": {
      "application/vnd.jupyter.widget-view+json": {
       "model_id": "e6c3d1cca3f04336b18aa7240f5fd546",
       "version_major": 2,
       "version_minor": 0
      },
      "text/plain": [
       "  0%|          | 0/10000 [00:00<?, ?it/s]"
      ]
     },
     "metadata": {},
     "output_type": "display_data"
    },
    {
     "name": "stdout",
     "output_type": "stream",
     "text": [
      "Не попал в 4.52% случаев; доверительный интервал: [4.130000000000001%, 4.9399999999999995%]\n"
     ]
    }
   ],
   "source": [
    "bad_cnt = 0\n",
    "\n",
    "N = 10000\n",
    "for i in tqdm_notebook(range(N)):\n",
    "    control_before_full = sps.expon(scale=1000).rvs(1000 * 2)\n",
    "    len_full = len(control_before_full)\n",
    "    indexes_to_take_a = np.random.choice(range(len_full),len_full//2,False)\n",
    "    indexes_to_take_b = [x for x in range(2000) if x not in indexes_to_take_a]\n",
    "    \n",
    "    control_before_a = control_before_full[indexes_to_take_a]\n",
    "    control_before_b = control_before_full[indexes_to_take_b]\n",
    "    \n",
    "    control_after_a = control_before_a + sps.norm(loc=0, scale=100).rvs(len_full//2)\n",
    "    control_after_b = control_before_b + sps.norm(loc=0, scale=100).rvs(len_full//2)\n",
    "\n",
    "    control_cup_a = control_after_a - (control_before_a - np.mean(control_before_full))\n",
    "    control_cup_b = control_after_b - (control_before_b - np.mean(control_before_full))\n",
    "\n",
    "    \n",
    "    if kstest(control_cup_a,control_cup_b).pvalue < 0.05:\n",
    "        bad_cnt += 1\n",
    "    \n",
    "left_real_level, right_real_level = proportion_confint(count = bad_cnt, nobs = N, alpha=0.05, method='wilson')\n",
    "print(f\"Не попал в {round(bad_cnt / N, 4) * 100}% случаев;\"\n",
    "      f\" доверительный интервал: [{round(left_real_level, 4) * 100}%, {round(right_real_level, 4) * 100}%]\")"
   ]
  },
  {
   "cell_type": "markdown",
   "metadata": {},
   "source": [
    "### Вот как будет это выглядеть в реальной жизни, допустим на каждую группу кидаем 5% трафика\n"
   ]
  },
  {
   "cell_type": "code",
   "execution_count": 6,
   "metadata": {
    "scrolled": true
   },
   "outputs": [
    {
     "data": {
      "application/vnd.jupyter.widget-view+json": {
       "model_id": "5998529a7cf540ddb42e2cfab7ec8241",
       "version_major": 2,
       "version_minor": 0
      },
      "text/plain": [
       "  0%|          | 0/10000 [00:00<?, ?it/s]"
      ]
     },
     "metadata": {},
     "output_type": "display_data"
    },
    {
     "name": "stdout",
     "output_type": "stream",
     "text": [
      "Не попал в 4.72% случаев; доверительный интервал: [4.32%, 5.1499999999999995%]\n"
     ]
    }
   ],
   "source": [
    "bad_cnt = 0\n",
    "\n",
    "N = 10000\n",
    "for i in tqdm_notebook(range(N)):\n",
    "    control_before_full = sps.expon(scale=1000).rvs(1000 * 10)\n",
    "    samples_in_ab = 2000\n",
    "    indexes_to_take_a = np.random.choice(range(len_full),samples_in_ab//2,False)\n",
    "    indexes_to_take_b = [x for x in range(samples_in_ab) if x not in indexes_to_take_a]\n",
    "    \n",
    "    control_before_a = control_before_full[indexes_to_take_a]\n",
    "    control_before_b = control_before_full[indexes_to_take_b]\n",
    "    \n",
    "    control_after_a = control_before_a + sps.norm(loc=0, scale=100).rvs(samples_in_ab//2)\n",
    "    control_after_b = control_before_b + sps.norm(loc=0, scale=100).rvs(samples_in_ab//2)\n",
    "\n",
    "    control_cup_a = control_after_a - (control_before_a - np.mean(control_before_full))\n",
    "    control_cup_b = control_after_b - (control_before_b - np.mean(control_before_full))\n",
    "\n",
    "    \n",
    "    if kstest(control_cup_a,control_cup_b).pvalue < 0.05:\n",
    "        bad_cnt += 1\n",
    "    \n",
    "left_real_level, right_real_level = proportion_confint(count = bad_cnt, nobs = N, alpha=0.05, method='wilson')\n",
    "print(f\"Не попал в {round(bad_cnt / N, 4) * 100}% случаев;\"\n",
    "      f\" доверительный интервал: [{round(left_real_level, 4) * 100}%, {round(right_real_level, 4) * 100}%]\")"
   ]
  },
  {
   "cell_type": "markdown",
   "metadata": {},
   "source": [
    "### Добавим Шум и посмотрим как справится Cuped\n"
   ]
  },
  {
   "cell_type": "code",
   "execution_count": 7,
   "metadata": {},
   "outputs": [
    {
     "data": {
      "application/vnd.jupyter.widget-view+json": {
       "model_id": "4fb4feb33d304dcfa7c8bbcecf94c043",
       "version_major": 2,
       "version_minor": 0
      },
      "text/plain": [
       "  0%|          | 0/10000 [00:00<?, ?it/s]"
      ]
     },
     "metadata": {},
     "output_type": "display_data"
    },
    {
     "name": "stdout",
     "output_type": "stream",
     "text": [
      "Не попал в 48.83% случаев; доверительный интервал: [47.85%, 49.81%]\n"
     ]
    }
   ],
   "source": [
    "\n",
    "bad_cnt = 0\n",
    "\n",
    "N = 10000\n",
    "for i in tqdm_notebook(range(N)):\n",
    "    control_before_full = sps.expon(scale=1000).rvs(1000 * 10)\n",
    "    samples_in_ab = 2000\n",
    "    indexes_to_take_a = np.random.choice(range(len_full),samples_in_ab//2,False)\n",
    "    indexes_to_take_b = [x for x in range(samples_in_ab) if x not in indexes_to_take_a]\n",
    "    \n",
    "    control_before_a = control_before_full[indexes_to_take_a]\n",
    "    control_before_b = control_before_full[indexes_to_take_b]\n",
    "    \n",
    "    control_after_a = control_before_a + sps.norm(loc=0, scale=100).rvs(samples_in_ab//2)\n",
    "    control_after_b = control_before_b + sps.norm(loc=10, scale=100).rvs(samples_in_ab//2) # добавляем немного шума\n",
    "\n",
    "    control_cup_a = control_after_a - (control_before_a - np.mean(control_before_full))\n",
    "    control_cup_b = control_after_b - (control_before_b - np.mean(control_before_full))\n",
    "\n",
    "    \n",
    "    if kstest(control_cup_a,control_cup_b).pvalue < 0.05:\n",
    "        bad_cnt += 1\n",
    "    \n",
    "left_real_level, right_real_level = proportion_confint(count = bad_cnt, nobs = N, alpha=0.05, method='wilson')\n",
    "print(f\"Не попал в {round(bad_cnt / N, 4) * 100}% случаев;\"\n",
    "      f\" доверительный интервал: [{round(left_real_level, 4) * 100}%, {round(right_real_level, 4) * 100}%]\")"
   ]
  },
  {
   "cell_type": "markdown",
   "metadata": {},
   "source": [
    "### Тоже самое но без Cuped"
   ]
  },
  {
   "cell_type": "code",
   "execution_count": 8,
   "metadata": {},
   "outputs": [
    {
     "data": {
      "application/vnd.jupyter.widget-view+json": {
       "model_id": "04909dea1a5d4a50a8a491f543032dd4",
       "version_major": 2,
       "version_minor": 0
      },
      "text/plain": [
       "  0%|          | 0/10000 [00:00<?, ?it/s]"
      ]
     },
     "metadata": {},
     "output_type": "display_data"
    },
    {
     "name": "stdout",
     "output_type": "stream",
     "text": [
      "Не попал в 5.41% случаев; доверительный интервал: [4.9799999999999995%, 5.87%]\n"
     ]
    }
   ],
   "source": [
    "bad_cnt = 0\n",
    "\n",
    "N = 10000\n",
    "for i in tqdm_notebook(range(N)):\n",
    "    control_before_full = sps.expon(scale=1000).rvs(1000 * 10)\n",
    "    samples_in_ab = 2000\n",
    "    indexes_to_take_a = np.random.choice(range(len_full),samples_in_ab//2,False)\n",
    "    indexes_to_take_b = [x for x in range(samples_in_ab) if x not in indexes_to_take_a]\n",
    "    \n",
    "    control_before_a = control_before_full[indexes_to_take_a]\n",
    "    control_before_b = control_before_full[indexes_to_take_b]\n",
    "    \n",
    "    control_after_a = control_before_a + sps.norm(loc=0, scale=100).rvs(samples_in_ab//2)\n",
    "    control_after_b = control_before_b + sps.norm(loc=10, scale=100).rvs(samples_in_ab//2) # добавляем немного шума\n",
    "\n",
    "    control_cup_a = control_after_a #- (control_before_a - np.mean(control_before_full))\n",
    "    control_cup_b = control_after_b #- (control_before_b - np.mean(control_before_full))\n",
    "\n",
    "    \n",
    "    if kstest(control_cup_a,control_cup_b).pvalue < 0.05:\n",
    "        bad_cnt += 1\n",
    "    \n",
    "left_real_level, right_real_level = proportion_confint(count = bad_cnt, nobs = N, alpha=0.05, method='wilson')\n",
    "print(f\"Не попал в {round(bad_cnt / N, 4) * 100}% случаев;\"\n",
    "      f\" доверительный интервал: [{round(left_real_level, 4) * 100}%, {round(right_real_level, 4) * 100}%]\")"
   ]
  }
 ],
 "metadata": {
  "kernelspec": {
   "display_name": "Python 3 (ipykernel)",
   "language": "python",
   "name": "python3"
  },
  "language_info": {
   "codemirror_mode": {
    "name": "ipython",
    "version": 3
   },
   "file_extension": ".py",
   "mimetype": "text/x-python",
   "name": "python",
   "nbconvert_exporter": "python",
   "pygments_lexer": "ipython3",
   "version": "3.8.5"
  }
 },
 "nbformat": 4,
 "nbformat_minor": 4
}
