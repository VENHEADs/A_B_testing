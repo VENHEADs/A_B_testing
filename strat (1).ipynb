{
 "cells": [
  {
   "cell_type": "code",
   "execution_count": 67,
   "metadata": {},
   "outputs": [],
   "source": [
    "import numpy as np\n",
    "from tqdm import tqdm_notebook"
   ]
  },
  {
   "cell_type": "code",
   "execution_count": 78,
   "metadata": {
    "scrolled": false
   },
   "outputs": [],
   "source": [
    "def check_strat(total_len_sampled, n_iters = 100):\n",
    "    contain = 0\n",
    "    \n",
    "    for _ in tqdm_notebook(range(n_iters)):\n",
    "    \n",
    "        general_strata_1_size = 10**7\n",
    "        general_strata_2_size = 10**6\n",
    "\n",
    "        len_sampled = int(0.1*(general_strata_1_size + general_strata_2_size))\n",
    "\n",
    "        distr_1_general = np.random.normal(100,10,general_strata_1_size) #истинное распределение страты 1\n",
    "        distr_2_general = np.random.normal(50,5,general_strata_2_size)\n",
    "        \n",
    "        total_distr_general = np.concatenate((distr_1_general,distr_2_general)) #истинное распределение всех данных\n",
    "        global_mean = np.mean(total_distr_general)\n",
    "\n",
    "\n",
    "\n",
    "        indexes = np.random.choice(range(len(total_distr_general)),len_sampled,False)\n",
    "        distr_1 = total_distr_general[indexes[indexes <= general_strata_1_size]] # распределение сэмлированой 1 страты до \n",
    "                                                                                    #аб теста для посчета весов\n",
    "        distr_2 = total_distr_general[indexes[indexes > general_strata_1_size]] \n",
    "\n",
    "        indexes = np.random.choice(range(len(total_distr_general)),len_sampled,False)\n",
    "        distr_3 = total_distr_general[indexes[indexes <= general_strata_1_size]] # распределение 1 страты во время аб теста из \n",
    "                                                                                #которого сэмплируем uhegge\n",
    "        distr_4 = total_distr_general[indexes[indexes > general_strata_1_size]] \n",
    "\n",
    "\n",
    "        total_distr = np.concatenate((distr_1,distr_2)) # распределение до аб теста - для посчета весов\n",
    "        total_distr_sampled = np.concatenate((distr_3,distr_4)) # распределение во время аб теста из которого сэмплируем\n",
    "\n",
    "        w1 = len(distr_1)/len(total_distr) # веса необходимо считать до проведения а/б теста иначе возникает аналог  \n",
    "        w2 = len(distr_2)/len(total_distr) #переобучения - подбор параметра и его использование на одно и той же выборке\n",
    "        se_acc = [] \n",
    "   \n",
    "        indexes = np.random.choice(range(len(total_distr_sampled)),total_len_sampled,False) # сэмплируе в группу аб\n",
    "        sample_strat_1 = total_distr_sampled[indexes[indexes <= len(distr_3)]] \n",
    "        sample_strat_2 = total_distr_sampled[indexes[indexes > len(distr_3)]]\n",
    "        var_strat = (np.var(sample_strat_1)*w1 + np.var(sample_strat_2)*w2)/total_len_sampled\n",
    "        strat_mean = w1 * np.mean(sample_strat_1) + w2 * np.mean(sample_strat_2) #мы получаем расхождение в var/sqrt(N)\n",
    "                                                                     #от мат ожидания генеральной совокупности, это \n",
    "                                                                     # также будет отличаться от Esrs в var/sqrt(N)\n",
    "        se_strat = np.sqrt(var_strat)\n",
    "        se_acc.append(se_strat)\n",
    "        inside = 1\n",
    "        if global_mean < strat_mean - 2*se_strat or global_mean > strat_mean + 2*se_strat:\n",
    "            inside = 0\n",
    "        contain += inside\n",
    "\n",
    "\n",
    "    print('ratio within interval strat', contain/n_iters)\n",
    "    print('mean se strat', np.mean(se_acc))\n",
    "\n",
    "    means = []\n",
    "    for _ in range(n_iters*10):\n",
    "        sampled = np.random.choice(total_distr_sampled,total_len_sampled,True)\n",
    "        means.append(np.mean(sampled))\n",
    "    print('se bootstrap',np.std(means))\n",
    "    "
   ]
  },
  {
   "cell_type": "code",
   "execution_count": 79,
   "metadata": {
    "scrolled": false
   },
   "outputs": [
    {
     "name": "stderr",
     "output_type": "stream",
     "text": [
      "<ipython-input-78-52f608137702>:4: TqdmDeprecationWarning: This function will be removed in tqdm==5.0.0\n",
      "Please use `tqdm.notebook.tqdm` instead of `tqdm.tqdm_notebook`\n",
      "  for _ in tqdm_notebook(range(n_iters)):\n"
     ]
    },
    {
     "data": {
      "application/vnd.jupyter.widget-view+json": {
       "model_id": "c7b8616c17be4368ac2406b02c524738",
       "version_major": 2,
       "version_minor": 0
      },
      "text/plain": [
       "HBox(children=(HTML(value=''), FloatProgress(value=0.0), HTML(value='')))"
      ]
     },
     "metadata": {},
     "output_type": "display_data"
    },
    {
     "name": "stdout",
     "output_type": "stream",
     "text": [
      "\n",
      "ratio within interval strat 0.93\n",
      "mean se strat 0.303858499322847\n",
      "se bootstrap 0.5331388064949822\n"
     ]
    },
    {
     "data": {
      "application/vnd.jupyter.widget-view+json": {
       "model_id": "67ac9233c05142359840c04b45b12eb2",
       "version_major": 2,
       "version_minor": 0
      },
      "text/plain": [
       "HBox(children=(HTML(value=''), FloatProgress(value=0.0), HTML(value='')))"
      ]
     },
     "metadata": {},
     "output_type": "display_data"
    },
    {
     "name": "stdout",
     "output_type": "stream",
     "text": [
      "\n",
      "ratio within interval strat 0.97\n",
      "mean se strat 0.09560457750249081\n",
      "se bootstrap 0.16918749227165616\n"
     ]
    },
    {
     "data": {
      "application/vnd.jupyter.widget-view+json": {
       "model_id": "c58f883263df4e8f9a54b83b40bfbdea",
       "version_major": 2,
       "version_minor": 0
      },
      "text/plain": [
       "HBox(children=(HTML(value=''), FloatProgress(value=0.0), HTML(value='')))"
      ]
     },
     "metadata": {},
     "output_type": "display_data"
    },
    {
     "name": "stdout",
     "output_type": "stream",
     "text": [
      "\n",
      "ratio within interval strat 0.94\n",
      "mean se strat 0.030578171327377633\n",
      "se bootstrap 0.054637210940334115\n"
     ]
    },
    {
     "data": {
      "application/vnd.jupyter.widget-view+json": {
       "model_id": "fe278985d4904abea595433c84fd68bd",
       "version_major": 2,
       "version_minor": 0
      },
      "text/plain": [
       "HBox(children=(HTML(value=''), FloatProgress(value=0.0), HTML(value='')))"
      ]
     },
     "metadata": {},
     "output_type": "display_data"
    },
    {
     "name": "stdout",
     "output_type": "stream",
     "text": [
      "\n",
      "ratio within interval strat 0.93\n",
      "mean se strat 0.021566735742726\n",
      "se bootstrap 0.037924501455429006\n"
     ]
    }
   ],
   "source": [
    "check_strat(1000,100)\n",
    "check_strat(10000,100)\n",
    "check_strat(100000,100)\n",
    "check_strat(200000,100)\n"
   ]
  },
  {
   "cell_type": "code",
   "execution_count": null,
   "metadata": {},
   "outputs": [],
   "source": []
  }
 ],
 "metadata": {
  "kernelspec": {
   "display_name": "Python 3",
   "language": "python",
   "name": "python3"
  },
  "language_info": {
   "codemirror_mode": {
    "name": "ipython",
    "version": 3
   },
   "file_extension": ".py",
   "mimetype": "text/x-python",
   "name": "python",
   "nbconvert_exporter": "python",
   "pygments_lexer": "ipython3",
   "version": "3.8.5"
  }
 },
 "nbformat": 4,
 "nbformat_minor": 4
}
